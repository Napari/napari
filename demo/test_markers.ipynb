{
 "cells": [
  {
   "cell_type": "code",
   "execution_count": 1,
   "metadata": {},
   "outputs": [],
   "source": [
    "%gui qt5\n",
    "\n",
    "# in case napari isn't in the path \n",
    "import sys\n",
    "sys.path.insert(1, '..')\n",
    "\n",
    "import napari_gui as gui\n",
    "from skimage import data\n",
    "import numpy as np"
   ]
  },
  {
   "cell_type": "code",
   "execution_count": 2,
   "metadata": {},
   "outputs": [
    {
     "name": "stderr",
     "output_type": "stream",
     "text": [
      "/opt/local/Library/Frameworks/Python.framework/Versions/3.6/lib/python3.6/site-packages/vispy/visuals/isocurve.py:22: UserWarning: VisPy is not yet compatible with matplotlib 2.2+\n",
      "  warnings.warn(\"VisPy is not yet compatible with matplotlib 2.2+\")\n"
     ]
    }
   ],
   "source": [
    "# Create a viewer with a random 5D image (e.g., [x, y, z, c, t])\n",
    "rand_im = gui.imshow(np.random.rand(10, 10, 5, 3, 2))"
   ]
  },
  {
   "cell_type": "code",
   "execution_count": 3,
   "metadata": {},
   "outputs": [
    {
     "data": {
      "text/plain": [
       "<napari_gui.layers._markers.Markers at 0x11ab9aa90>"
      ]
     },
     "execution_count": 3,
     "metadata": {},
     "output_type": "execute_result"
    }
   ],
   "source": [
    "# Create a list of marker coords\n",
    "marker_list = np.array([[5, 3, 0, 0, 0],\n",
    "                        [2, 2, 0, 0, 0],\n",
    "                        [4, 9, 0, 0, 0],\n",
    "                        [5, 4, 1, 1, 1],\n",
    "                        [7, 3, 4, 2, 1]])\n",
    "\n",
    "\n",
    "\n",
    "# Create the layer with markers\n",
    "rand_im.add_markers(marker_list)"
   ]
  },
  {
   "cell_type": "code",
   "execution_count": 4,
   "metadata": {},
   "outputs": [
    {
     "name": "stdout",
     "output_type": "stream",
     "text": [
      "[<napari_gui.layers._image.Image object at 0x11aa64518>, <napari_gui.layers._markers.Markers object at 0x11ab9aa90>]\n"
     ]
    }
   ],
   "source": [
    "# We can also change the marker styling by updating the layer properties\n",
    "print(rand_im.layers)\n",
    "\n",
    "rand_im.layers[1].size = np.array([20, 20, 20, 5, 5])\n",
    "rand_im.layers[1].symbol= '+'"
   ]
  }
 ],
 "metadata": {
  "kernelspec": {
   "display_name": "Python 3",
   "language": "python",
   "name": "python3"
  },
  "language_info": {
   "codemirror_mode": {
    "name": "ipython",
    "version": 3
   },
   "file_extension": ".py",
   "mimetype": "text/x-python",
   "name": "python",
   "nbconvert_exporter": "python",
   "pygments_lexer": "ipython3",
   "version": "3.6.4"
  }
 },
 "nbformat": 4,
 "nbformat_minor": 2
}
