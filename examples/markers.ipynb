{
 "cells": [
  {
   "cell_type": "code",
   "execution_count": 1,
   "metadata": {},
   "outputs": [
    {
     "name": "stderr",
     "output_type": "stream",
     "text": [
      "/Users/bryant.chhun/anaconda3/envs/InstantPol3.6/lib/python3.6/site-packages/vispy/visuals/isocurve.py:22: UserWarning: VisPy is not yet compatible with matplotlib 2.2+\n  warnings.warn(\"VisPy is not yet compatible with matplotlib 2.2+\")\n"
     ]
    }
   ],
   "source": [
    "%gui qt5\n",
    "\n",
    "# in case napari isn't in the path \n",
    "import sys\n",
    "sys.path.insert(1, '..')\n",
    "\n",
    "import napari_gui as gui\n",
    "from skimage import data\n",
    "import numpy as np"
   ]
  },
  {
   "cell_type": "code",
   "execution_count": 2,
   "metadata": {},
   "outputs": [],
   "source": [
    "# Create a viewer with a random 5D image (e.g., [x, y, z, c, t])\n",
    "rand_im = gui.imshow(np.random.rand(500, 500, 5, 3, 2))"
   ]
  },
  {
   "cell_type": "code",
   "execution_count": 3,
   "metadata": {},
   "outputs": [
    {
     "ename": "AttributeError",
     "evalue": "'Window' object has no attribute 'add_markers'",
     "traceback": [
      "\u001b[0;31m---------------------------------------------------------------------------\u001b[0m",
      "\u001b[0;31mAttributeError\u001b[0m                            Traceback (most recent call last)",
      "\u001b[0;32m<ipython-input-3-c6127a1a5a7d>\u001b[0m in \u001b[0;36m<module>\u001b[0;34m()\u001b[0m\n\u001b[1;32m      1\u001b[0m \u001b[0;31m# ? gives usage instructions for add_markers\u001b[0m\u001b[0;34m\u001b[0m\u001b[0;34m\u001b[0m\u001b[0m\n\u001b[0;32m----> 2\u001b[0;31m \u001b[0mrand_im\u001b[0m\u001b[0;34m.\u001b[0m\u001b[0madd_markers\u001b[0m\u001b[0;34m\u001b[0m\u001b[0m\n\u001b[0m",
      "\u001b[0;31mAttributeError\u001b[0m: 'Window' object has no attribute 'add_markers'"
     ],
     "output_type": "error"
    }
   ],
   "source": [
    "# ? gives usage instructions for add_markers\n",
    "rand_im.add_markers?"
   ]
  },
  {
   "cell_type": "code",
   "execution_count": 4,
   "metadata": {},
   "outputs": [
    {
     "ename": "AttributeError",
     "evalue": "'Window' object has no attribute 'add_markers'",
     "traceback": [
      "\u001b[0;31m---------------------------------------------------------------------------\u001b[0m",
      "\u001b[0;31mAttributeError\u001b[0m                            Traceback (most recent call last)",
      "\u001b[0;32m<ipython-input-4-90097d7d46e4>\u001b[0m in \u001b[0;36m<module>\u001b[0;34m()\u001b[0m\n\u001b[1;32m      7\u001b[0m \u001b[0;34m\u001b[0m\u001b[0m\n\u001b[1;32m      8\u001b[0m \u001b[0;31m# Create the layer with markers\u001b[0m\u001b[0;34m\u001b[0m\u001b[0;34m\u001b[0m\u001b[0m\n\u001b[0;32m----> 9\u001b[0;31m \u001b[0mrand_im\u001b[0m\u001b[0;34m.\u001b[0m\u001b[0madd_markers\u001b[0m\u001b[0;34m(\u001b[0m\u001b[0mmarker_list\u001b[0m\u001b[0;34m)\u001b[0m\u001b[0;34m\u001b[0m\u001b[0m\n\u001b[0m",
      "\u001b[0;31mAttributeError\u001b[0m: 'Window' object has no attribute 'add_markers'"
     ],
     "output_type": "error"
    }
   ],
   "source": [
    "# Create a list of marker coords\n",
    "marker_list = np.array([[50, 30, 0, 0, 0],\n",
    "                        [20, 20, 0, 0, 0],\n",
    "                        [40, 90, 0, 0, 0],\n",
    "                        [50, 40, 1, 1, 1],\n",
    "                        [70, 30, 4, 2, 1]])\n",
    "\n",
    "# Create the layer with markers\n",
    "rand_im.add_markers(marker_list)"
   ]
  },
  {
   "cell_type": "code",
   "execution_count": 5,
   "metadata": {},
   "outputs": [
    {
     "ename": "AttributeError",
     "evalue": "'Window' object has no attribute 'layers'",
     "traceback": [
      "\u001b[0;31m---------------------------------------------------------------------------\u001b[0m",
      "\u001b[0;31mAttributeError\u001b[0m                            Traceback (most recent call last)",
      "\u001b[0;32m<ipython-input-5-41d7bd17a846>\u001b[0m in \u001b[0;36m<module>\u001b[0;34m()\u001b[0m\n\u001b[1;32m      1\u001b[0m \u001b[0;31m# We can also change the marker styling by updating the layer properties\u001b[0m\u001b[0;34m\u001b[0m\u001b[0;34m\u001b[0m\u001b[0m\n\u001b[0;32m----> 2\u001b[0;31m \u001b[0mprint\u001b[0m\u001b[0;34m(\u001b[0m\u001b[0mrand_im\u001b[0m\u001b[0;34m.\u001b[0m\u001b[0mlayers\u001b[0m\u001b[0;34m)\u001b[0m\u001b[0;34m\u001b[0m\u001b[0m\n\u001b[0m\u001b[1;32m      3\u001b[0m \u001b[0;34m\u001b[0m\u001b[0m\n\u001b[1;32m      4\u001b[0m \u001b[0mrand_im\u001b[0m\u001b[0;34m.\u001b[0m\u001b[0mlayers\u001b[0m\u001b[0;34m[\u001b[0m\u001b[0;36m1\u001b[0m\u001b[0;34m]\u001b[0m\u001b[0;34m.\u001b[0m\u001b[0msize\u001b[0m \u001b[0;34m=\u001b[0m \u001b[0mnp\u001b[0m\u001b[0;34m.\u001b[0m\u001b[0marray\u001b[0m\u001b[0;34m(\u001b[0m\u001b[0;34m[\u001b[0m\u001b[0;36m20\u001b[0m\u001b[0;34m,\u001b[0m \u001b[0;36m20\u001b[0m\u001b[0;34m,\u001b[0m \u001b[0;36m20\u001b[0m\u001b[0;34m,\u001b[0m \u001b[0;36m5\u001b[0m\u001b[0;34m,\u001b[0m \u001b[0;36m5\u001b[0m\u001b[0;34m]\u001b[0m\u001b[0;34m)\u001b[0m\u001b[0;34m\u001b[0m\u001b[0m\n\u001b[1;32m      5\u001b[0m \u001b[0mrand_im\u001b[0m\u001b[0;34m.\u001b[0m\u001b[0mlayers\u001b[0m\u001b[0;34m[\u001b[0m\u001b[0;36m1\u001b[0m\u001b[0;34m]\u001b[0m\u001b[0;34m.\u001b[0m\u001b[0msymbol\u001b[0m\u001b[0;34m=\u001b[0m \u001b[0;34m'+'\u001b[0m\u001b[0;34m\u001b[0m\u001b[0m\n",
      "\u001b[0;31mAttributeError\u001b[0m: 'Window' object has no attribute 'layers'"
     ],
     "output_type": "error"
    }
   ],
   "source": [
    "# We can also change the marker styling by updating the layer properties\n",
    "print(rand_im.layers)\n",
    "\n",
    "rand_im.layers[1].size = np.array([20, 20, 20, 5, 5])\n",
    "rand_im.layers[1].symbol= '+'"
   ]
  },
  {
   "cell_type": "code",
   "execution_count": 6,
   "metadata": {},
   "outputs": [],
   "source": [
    "# Sizes can also be set with lists\n",
    "rand_im.layers[1].size = [10, 10, 10, 5, 5]"
   ]
  },
  {
   "cell_type": "code",
   "execution_count": 7,
   "metadata": {},
   "outputs": [],
   "source": [
    "# We can update the marker coordinates via the data property\n",
    "marker_list2 = np.array([[400, 30, 0, 0, 0],\n",
    "                        [75, 200, 0, 0, 0],\n",
    "                        [33, 90, 0, 0, 0],\n",
    "                        [99, 40, 1, 1, 1],\n",
    "                        [50, 30, 4, 2, 1]])\n",
    "\n",
    "rand_im.layers[1].data = marker_list2"
   ]
  },
  {
   "cell_type": "code",
   "execution_count": 8,
   "metadata": {},
   "outputs": [],
   "source": [
    "# Similarly, we can update the marker coordinates via the coords property\n",
    "marker_list3 = np.array([[50, 30, 0, 0, 0],\n",
    "                        [10, 200, 0, 0, 0],\n",
    "                        [33, 90, 0, 0, 0],\n",
    "                        [99, 40, 1, 1, 1],\n",
    "                        [50, 30, 4, 2, 1]])\n",
    "\n",
    "rand_im.layers[1].coords = marker_list3"
   ]
  },
  {
   "cell_type": "code",
   "execution_count": null,
   "metadata": {},
   "outputs": [],
   "source": []
  }
 ],
 "metadata": {
  "kernelspec": {
   "display_name": "Python 3",
   "language": "python",
   "name": "python3"
  },
  "language_info": {
   "codemirror_mode": {
    "name": "ipython",
    "version": 3
   },
   "file_extension": ".py",
   "mimetype": "text/x-python",
   "name": "python",
   "nbconvert_exporter": "python",
   "pygments_lexer": "ipython3",
   "version": "3.6.5"
  }
 },
 "nbformat": 4,
 "nbformat_minor": 2
}
