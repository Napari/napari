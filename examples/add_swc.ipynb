{
 "cells": [
  {
   "cell_type": "code",
   "execution_count": null,
   "metadata": {},
   "outputs": [],
   "source": [
    "%gui qt5\n",
    "# Note that this Magics command needs to be run in a cell\n",
    "# before any of the Napari objects are instantiated to\n",
    "# ensure it has time to finish executing before they are\n",
    "# called\n",
    "\n",
    "import napari\n",
    "import numpy as np"
   ]
  },
  {
   "cell_type": "code",
   "execution_count": null,
   "metadata": {},
   "outputs": [],
   "source": [
    "## show conensus neuron G-002\n",
    "# parameters\n",
    "consen_neuron_path = '2018-08-01_G-002_consensus.swc'\n",
    "spacing = np.array([0.29875923,0.3044159,0.98840415])\n",
    "origin = np.array([70093.276,15071.596,29306.737])"
   ]
  },
  {
   "cell_type": "code",
   "execution_count": null,
   "metadata": {},
   "outputs": [],
   "source": [
    "viewer = napari.Viewer(ndisplay=3)\n",
    "viewer.add_swc(swc_path=consen_neuron_path, spacing=spacing, origin=origin, edge_color='white')"
   ]
  },
  {
   "cell_type": "code",
   "execution_count": null,
   "metadata": {},
   "outputs": [],
   "source": [
    "## show sub-neuron from complex region of consensus neuron\n",
    "start = np.array([15312,4400,6448])\n",
    "end = np.array([15840,4800,6656])\n",
    "viewer_comp = napari.Viewer(ndisplay=3)\n",
    "viewer_comp.add_swc(swc_path=consen_neuron_path, spacing=spacing, origin=origin, bounding_box=(start,end), edge_color='white')"
   ]
  },
  {
   "cell_type": "code",
   "execution_count": null,
   "metadata": {},
   "outputs": [],
   "source": [
    "## show sub-neuron from simple region of consensus neuron\n",
    "start = np.array([15312,6400,5824])\n",
    "end = np.array([15840,6800,6032])\n",
    "viewer_simp = napari.Viewer(ndisplay=3)\n",
    "viewer_simp.add_swc(swc_path=consen_neuron_path, spacing=spacing, origin=origin, bounding_box=(start,end), edge_color='white')"
   ]
  },
  {
   "cell_type": "code",
   "execution_count": null,
   "metadata": {},
   "outputs": [],
   "source": []
  }
 ],
 "metadata": {
  "kernelspec": {
   "display_name": "napari",
   "language": "python",
   "name": "napari"
  },
  "language_info": {
   "codemirror_mode": {
    "name": "ipython",
    "version": 3
   },
   "file_extension": ".py",
   "mimetype": "text/x-python",
   "name": "python",
   "nbconvert_exporter": "python",
   "pygments_lexer": "ipython3",
   "version": "3.7.3"
  }
 },
 "nbformat": 4,
 "nbformat_minor": 4
}
